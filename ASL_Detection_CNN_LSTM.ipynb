{
  "metadata": {
    "kernelspec": {
      "display_name": "Python 3",
      "name": "python3"
    },
    "language_info": {
      "pygments_lexer": "ipython3",
      "nbconvert_exporter": "python",
      "version": "3.6.4",
      "file_extension": ".py",
      "codemirror_mode": {
        "name": "ipython",
        "version": 3
      },
      "name": "python",
      "mimetype": "text/x-python"
    },
    "kaggle": {
      "accelerator": "gpu",
      "dataSources": [
        {
          "sourceId": 29550,
          "sourceType": "datasetVersion",
          "datasetId": 23079
        }
      ],
      "dockerImageVersionId": 30019,
      "isInternetEnabled": false,
      "language": "python",
      "sourceType": "notebook",
      "isGpuEnabled": true
    },
    "colab": {
      "provenance": [],
      "gpuType": "T4"
    },
    "accelerator": "GPU"
  },
  "nbformat_minor": 0,
  "nbformat": 4,
  "cells": [
    {
      "source": [
        "# Mount drive\n",
        "from google.colab import drive\n",
        "drive.mount('/content/drive')"
      ],
      "metadata": {
        "id": "WRAFFzoablL4",
        "colab": {
          "base_uri": "https://localhost:8080/"
        },
        "outputId": "a1bb6772-5f06-4e74-93f2-f4c9fc6da96a"
      },
      "cell_type": "code",
      "outputs": [
        {
          "output_type": "stream",
          "name": "stdout",
          "text": [
            "Drive already mounted at /content/drive; to attempt to forcibly remount, call drive.mount(\"/content/drive\", force_remount=True).\n"
          ]
        }
      ],
      "execution_count": null
    },
    {
      "cell_type": "markdown",
      "source": [
        "Download dataset from keggle"
      ],
      "metadata": {
        "id": "Tvds70xocLkp"
      }
    },
    {
      "cell_type": "code",
      "source": [
        "# from google.colab import files\n",
        "# files.upload() # Upload the kaggle.json file\n",
        "# !mkdir ~/.kaggle\n",
        "# !cp kaggle.json ~/.kaggle/\n",
        "# !chmod 600 ~/.kaggle/kaggle.json"
      ],
      "metadata": {
        "id": "HMHtsmKGcHD4"
      },
      "execution_count": null,
      "outputs": []
    },
    {
      "cell_type": "code",
      "source": [
        "# !kaggle datasets download -d grassknoted/asl-alphabet"
      ],
      "metadata": {
        "id": "_vMXTCx_ccn7"
      },
      "execution_count": null,
      "outputs": []
    },
    {
      "cell_type": "code",
      "source": [
        "# !cp /content/asl-alphabet.zip /content/drive/MyDrive/Signify/"
      ],
      "metadata": {
        "id": "pGZdwHsncg3E"
      },
      "execution_count": null,
      "outputs": []
    },
    {
      "cell_type": "code",
      "source": [
        "# !unzip /content/drive/MyDrive/Signify/asl-alphabet.zip"
      ],
      "metadata": {
        "collapsed": true,
        "id": "-6GwJRzbdWjF"
      },
      "execution_count": null,
      "outputs": []
    },
    {
      "cell_type": "markdown",
      "source": [
        "<h2><center>American Sign Language Detection</center></h2>"
      ],
      "metadata": {
        "_uuid": "faa859a5-6753-490d-986a-1589884d988f",
        "_cell_guid": "07062a19-3f08-499f-a5a7-d6f34cdf125e",
        "trusted": true,
        "id": "RNlA49WsblL5"
      }
    },
    {
      "cell_type": "markdown",
      "source": [
        "Table of contents <a id=19></a>\n",
        "1. [Importing packages](#1)\n",
        "2. [Importing the dataset from training directory](#2)\n",
        "    - 2.1 [Checking the shape of data](#3)\n",
        "    - 2.2 [Checking the shape of one image](#4)\n",
        "    - 2.3 [Viewing the image](#5)\n",
        "3. [Data processing](#6)\n",
        "    - 3.1 [Train/test split](#7)\n",
        "    - 3.2 [One-Hot-Encoding](#8)\n",
        "    - 3.3 [Dimension Check of variables](#9)\n",
        "4. [Garbage Collection](#10)\n",
        "5. [Modeling](#11)\n",
        "    - 5.1 [Importing packages](#12)\n",
        "    - 5.2 [Building the model](#13)\n",
        "    - 5.3 [Early Stopping & Compiling](#14)\n",
        "    - 5.4 [Model fitting](#15)\n",
        "    - 5.5 [Model metrics](#16)\n",
        "    - 5.6 [Predictions](#17)\n",
        "    - 5.7 [Saving the model](#18)"
      ],
      "metadata": {
        "_uuid": "f7dffeed-8cd8-493d-8284-b48aa7786711",
        "_cell_guid": "49a07585-ec11-476f-ad7c-c28337672066",
        "_kg_hide-input": false,
        "trusted": true,
        "id": "RyW6sz2AblL6"
      }
    },
    {
      "cell_type": "markdown",
      "source": [
        "### 1. Importing packages <a id=1></a>"
      ],
      "metadata": {
        "_uuid": "c0d7c1be-58ba-4ff6-a111-25c9c31e0eda",
        "_cell_guid": "e0fffe98-758d-4319-bd66-6f207729a630",
        "trusted": true,
        "id": "rnr-ntcUblL6"
      }
    },
    {
      "cell_type": "code",
      "source": [
        "# import data processing and visualisation libraries\n",
        "import numpy as np\n",
        "import pandas as pd\n",
        "import seaborn as sns\n",
        "import matplotlib.pyplot as plt\n",
        "%matplotlib inline\n",
        "\n",
        "# import image processing libraries\n",
        "import cv2\n",
        "import skimage\n",
        "from skimage.transform import resize\n",
        "\n",
        "# import tensorflow and keras\n",
        "import tensorflow as tf\n",
        "from tensorflow import keras\n",
        "import os\n",
        "\n",
        "print(\"Packages imported...\")"
      ],
      "metadata": {
        "_uuid": "d20235e4-152b-489d-a746-cc67a4003510",
        "_cell_guid": "1e37fef9-7f9f-4b06-a8de-3f367d649045",
        "jupyter": {
          "outputs_hidden": false
        },
        "_kg_hide-input": true,
        "trusted": true,
        "id": "xa-kPLW0blL6",
        "colab": {
          "base_uri": "https://localhost:8080/"
        },
        "outputId": "3b0b6e04-e7b5-4d3e-95f6-6cc3c768c772"
      },
      "outputs": [
        {
          "output_type": "stream",
          "name": "stdout",
          "text": [
            "Packages imported...\n"
          ]
        }
      ],
      "execution_count": null
    },
    {
      "cell_type": "markdown",
      "source": [
        "### 2. Importing the dataset from training directory <a id=2></a>"
      ],
      "metadata": {
        "_uuid": "05e0a0aa-da07-4dff-a4d7-66ca13fa80b1",
        "_cell_guid": "b3a465c1-760b-48fa-a281-b51d5ef510aa",
        "trusted": true,
        "id": "6FZKEremblL7"
      }
    },
    {
      "cell_type": "code",
      "source": [
        "batch_size = 64\n",
        "imageSize = 64\n",
        "target_dims = (imageSize, imageSize, 3)\n",
        "num_classes = 29\n",
        "\n",
        "train_len = 87000\n",
        "# train_dir = '/kaggle/input/asl-alphabet/asl_alphabet_train/asl_alphabet_train/'\n",
        "train_dir = '/content/asl_alphabet_train/asl_alphabet_train/'\n",
        "\n",
        "def get_data(folder):\n",
        "    X = np.empty((train_len, imageSize, imageSize, 3), dtype=np.float32)\n",
        "    y = np.empty((train_len,), dtype=int)\n",
        "    cnt = 0\n",
        "    for folderName in os.listdir(folder):\n",
        "        if not folderName.startswith('.'):\n",
        "            if folderName in ['A']:\n",
        "                label = 0\n",
        "            elif folderName in ['B']:\n",
        "                label = 1\n",
        "            elif folderName in ['C']:\n",
        "                label = 2\n",
        "            elif folderName in ['D']:\n",
        "                label = 3\n",
        "            elif folderName in ['E']:\n",
        "                label = 4\n",
        "            elif folderName in ['F']:\n",
        "                label = 5\n",
        "            elif folderName in ['G']:\n",
        "                label = 6\n",
        "            elif folderName in ['H']:\n",
        "                label = 7\n",
        "            elif folderName in ['I']:\n",
        "                label = 8\n",
        "            elif folderName in ['J']:\n",
        "                label = 9\n",
        "            elif folderName in ['K']:\n",
        "                label = 10\n",
        "            elif folderName in ['L']:\n",
        "                label = 11\n",
        "            elif folderName in ['M']:\n",
        "                label = 12\n",
        "            elif folderName in ['N']:\n",
        "                label = 13\n",
        "            elif folderName in ['O']:\n",
        "                label = 14\n",
        "            elif folderName in ['P']:\n",
        "                label = 15\n",
        "            elif folderName in ['Q']:\n",
        "                label = 16\n",
        "            elif folderName in ['R']:\n",
        "                label = 17\n",
        "            elif folderName in ['S']:\n",
        "                label = 18\n",
        "            elif folderName in ['T']:\n",
        "                label = 19\n",
        "            elif folderName in ['U']:\n",
        "                label = 20\n",
        "            elif folderName in ['V']:\n",
        "                label = 21\n",
        "            elif folderName in ['W']:\n",
        "                label = 22\n",
        "            elif folderName in ['X']:\n",
        "                label = 23\n",
        "            elif folderName in ['Y']:\n",
        "                label = 24\n",
        "            elif folderName in ['Z']:\n",
        "                label = 25\n",
        "            elif folderName in ['del']:\n",
        "                label = 26\n",
        "            elif folderName in ['nothing']:\n",
        "                label = 27\n",
        "            elif folderName in ['space']:\n",
        "                label = 28\n",
        "            else:\n",
        "                label = 29\n",
        "            for image_filename in os.listdir(folder + folderName):\n",
        "                img_file = cv2.imread(folder + folderName + '/' + image_filename)\n",
        "                if img_file is not None:\n",
        "                    img_file = skimage.transform.resize(img_file, (imageSize, imageSize, 3))\n",
        "                    img_arr = np.asarray(img_file).reshape((-1, imageSize, imageSize, 3))\n",
        "\n",
        "                    X[cnt] = img_arr\n",
        "                    y[cnt] = label\n",
        "                    cnt += 1\n",
        "    return X,y\n",
        "X_train, y_train = get_data(train_dir)\n",
        "print(\"Images successfully imported...\")"
      ],
      "metadata": {
        "_uuid": "0fab0f82-e179-4781-ad9d-973fed3ae070",
        "_cell_guid": "2265d143-13e7-43d9-b72d-18eb4b42ac2e",
        "jupyter": {
          "outputs_hidden": false
        },
        "_kg_hide-input": true,
        "trusted": true,
        "id": "-xzigH8dblL7",
        "colab": {
          "base_uri": "https://localhost:8080/"
        },
        "outputId": "e676db61-d84a-46c1-a81f-e7f26cb8fc69"
      },
      "outputs": [
        {
          "output_type": "stream",
          "name": "stdout",
          "text": [
            "Images successfully imported...\n"
          ]
        }
      ],
      "execution_count": null
    },
    {
      "cell_type": "markdown",
      "source": [
        "#### 2.1 Checking the shape of data <a id=3></a>"
      ],
      "metadata": {
        "id": "JBHinYQRblL8"
      }
    },
    {
      "cell_type": "code",
      "source": [
        "print(\"The shape of X_train is : \", X_train.shape)\n",
        "print(\"The shape of y_train is : \", y_train.shape)"
      ],
      "metadata": {
        "_uuid": "a5add51b-31da-4c0e-b1ff-573184900634",
        "_cell_guid": "067c2ef4-496b-4a67-bf5a-cc7a139ab7bd",
        "jupyter": {
          "outputs_hidden": false
        },
        "_kg_hide-input": true,
        "trusted": true,
        "id": "X06sR4iHblL8",
        "colab": {
          "base_uri": "https://localhost:8080/"
        },
        "outputId": "38b6539e-5f37-4e3b-f913-c217f587bf85"
      },
      "outputs": [
        {
          "output_type": "stream",
          "name": "stdout",
          "text": [
            "The shape of X_train is :  (87000, 64, 64, 3)\n",
            "The shape of y_train is :  (87000,)\n"
          ]
        }
      ],
      "execution_count": null
    },
    {
      "cell_type": "markdown",
      "source": [
        "#### 2.2 Checking the shape of one image <a id=4></a>"
      ],
      "metadata": {
        "id": "dUdGb88FblL8"
      }
    },
    {
      "cell_type": "code",
      "source": [
        "print(\"The shape of one image is : \", X_train[0].shape)"
      ],
      "metadata": {
        "_uuid": "d26a695b-50e9-48ba-b70d-46bd2eb2a6f6",
        "_cell_guid": "900696c7-8be7-4337-a43f-16ccd81340f9",
        "jupyter": {
          "outputs_hidden": false
        },
        "_kg_hide-input": true,
        "trusted": true,
        "id": "pTzhaWT1blL8",
        "colab": {
          "base_uri": "https://localhost:8080/"
        },
        "outputId": "2e7c1d2d-4658-453b-81a2-d437ef510505"
      },
      "outputs": [
        {
          "output_type": "stream",
          "name": "stdout",
          "text": [
            "The shape of one image is :  (64, 64, 3)\n"
          ]
        }
      ],
      "execution_count": null
    },
    {
      "cell_type": "markdown",
      "source": [
        "#### 2.3 Viewing the image <a id=5></a>"
      ],
      "metadata": {
        "id": "sHcOwRzFblL8"
      }
    },
    {
      "cell_type": "code",
      "source": [
        "plt.imshow(X_train[0])\n",
        "plt.show()"
      ],
      "metadata": {
        "_uuid": "47fc5cad-9dc5-4d85-81e4-063e6e0a084f",
        "_cell_guid": "07904f67-f959-4785-a2a9-d26da5737f73",
        "jupyter": {
          "outputs_hidden": false
        },
        "_kg_hide-input": true,
        "trusted": true,
        "id": "i9IWL9XBblL9",
        "colab": {
          "base_uri": "https://localhost:8080/",
          "height": 432
        },
        "outputId": "6f0d7755-8ecd-4026-e7f3-c2e4be1dcf9b"
      },
      "outputs": [
        {
          "output_type": "display_data",
          "data": {
            "text/plain": [
              "<Figure size 640x480 with 1 Axes>"
            ],
            "image/png": "[encoded data removed]"
          },
          "metadata": {}
        }
      ],
      "execution_count": null
    },
    {
      "cell_type": "markdown",
      "source": [
        "##### 2.3.1 Making copies of original data"
      ],
      "metadata": {
        "id": "AIko8lFqblL9"
      }
    },
    {
      "cell_type": "code",
      "source": [
        "X_data = X_train\n",
        "y_data = y_train\n",
        "print(\"Copies made...\")"
      ],
      "metadata": {
        "_uuid": "1a129c25-b487-4d64-bb95-ce34367497d6",
        "_cell_guid": "565a6756-d740-4ebe-ab3a-edd5d10d89cf",
        "jupyter": {
          "outputs_hidden": false
        },
        "_kg_hide-input": true,
        "trusted": true,
        "id": "UG4m1AONblL9",
        "colab": {
          "base_uri": "https://localhost:8080/"
        },
        "outputId": "e7a387c3-7554-4821-db8f-eeef6f492eb7"
      },
      "outputs": [
        {
          "output_type": "stream",
          "name": "stdout",
          "text": [
            "Copies made...\n"
          ]
        }
      ],
      "execution_count": null
    },
    {
      "cell_type": "markdown",
      "source": [
        "### 3. Data processing <a id=6></a>"
      ],
      "metadata": {
        "_uuid": "7b6c425c-49f0-4617-bda4-cf848cb75f14",
        "_cell_guid": "37d05451-8836-41ff-865f-cdc9ea9567b0",
        "trusted": true,
        "id": "0bcHo4rablL9"
      }
    },
    {
      "cell_type": "markdown",
      "source": [
        "#### 3.1 Train/test split <a id=7></a>"
      ],
      "metadata": {
        "id": "DW7nFtVrblL9"
      }
    },
    {
      "cell_type": "code",
      "source": [
        "from sklearn.model_selection import train_test_split\n",
        "\n",
        "X_train, X_test, y_train, y_test = train_test_split(X_data, y_data, test_size=0.3,random_state=42,stratify=y_data)"
      ],
      "metadata": {
        "_uuid": "100112bd-a136-4fb9-bb03-ef07020a294f",
        "_cell_guid": "f834b860-92b6-49ca-8fc0-f3a3f20d7456",
        "jupyter": {
          "outputs_hidden": false
        },
        "_kg_hide-input": true,
        "trusted": true,
        "id": "jWBTN1eoblL9"
      },
      "outputs": [],
      "execution_count": null
    },
    {
      "cell_type": "markdown",
      "source": [
        "#### 3.2 One-Hot-Encoding <a id=8></a>"
      ],
      "metadata": {
        "id": "vezNWPSgblL9"
      }
    },
    {
      "cell_type": "code",
      "source": [
        "# One-Hot-Encoding the categorical data\n",
        "from tensorflow.keras.utils import to_categorical\n",
        "y_cat_train = to_categorical(y_train,29)\n",
        "y_cat_test = to_categorical(y_test,29)"
      ],
      "metadata": {
        "_uuid": "df3ce29e-d4a1-41cc-a980-a1fdddbb83b8",
        "_cell_guid": "9257b00c-3b27-4e54-967d-903b7e52e65f",
        "jupyter": {
          "outputs_hidden": false
        },
        "_kg_hide-input": true,
        "trusted": true,
        "id": "4RBrvPgQblL9"
      },
      "outputs": [],
      "execution_count": null
    },
    {
      "cell_type": "markdown",
      "source": [
        "#### 3.3 Dimension Check of variables <a id=9></a>"
      ],
      "metadata": {
        "id": "yDPnzdzhblL9"
      }
    },
    {
      "cell_type": "code",
      "source": [
        "# Checking the dimensions of all the variables\n",
        "print(X_train.shape)\n",
        "print(y_train.shape)\n",
        "print(X_test.shape)\n",
        "print(y_test.shape)\n",
        "print(y_cat_train.shape)\n",
        "print(y_cat_test.shape)"
      ],
      "metadata": {
        "_uuid": "e9f8c8b8-df33-48f5-92a4-1e4d9a5393c4",
        "_cell_guid": "dae48de7-8e50-4c4e-a297-d8e3c09741da",
        "jupyter": {
          "outputs_hidden": false
        },
        "_kg_hide-input": true,
        "trusted": true,
        "id": "iME-jb5DblL9",
        "colab": {
          "base_uri": "https://localhost:8080/"
        },
        "outputId": "3a25ba30-3065-4d93-97f9-ec9652952843"
      },
      "outputs": [
        {
          "output_type": "stream",
          "name": "stdout",
          "text": [
            "(60900, 64, 64, 3)\n",
            "(60900,)\n",
            "(26100, 64, 64, 3)\n",
            "(26100,)\n",
            "(60900, 29)\n",
            "(26100, 29)\n"
          ]
        }
      ],
      "execution_count": null
    },
    {
      "cell_type": "markdown",
      "source": [
        "### 4. Garbage Collection <a id=10></a>"
      ],
      "metadata": {
        "_uuid": "e2310305-968c-4304-98c0-0fa6f948f7ed",
        "_cell_guid": "5ea40005-f9c4-45d8-b5fc-62efbbc7552f",
        "trusted": true,
        "id": "O6j6mqpablL-"
      }
    },
    {
      "cell_type": "code",
      "source": [
        "# This is done to save CPU and RAM space while working on Kaggle Kernels. This will delete the specified data and save some space!\n",
        "import gc\n",
        "del X_data\n",
        "del y_data\n",
        "gc.collect()"
      ],
      "metadata": {
        "_uuid": "0d1a9c60-97e0-4d93-96a2-8414ebe5a77b",
        "_cell_guid": "60b60e7c-5ad2-4200-b77b-d780c19a63c8",
        "jupyter": {
          "outputs_hidden": false
        },
        "_kg_hide-input": true,
        "trusted": true,
        "id": "U0NfJ5I2blL-",
        "colab": {
          "base_uri": "https://localhost:8080/"
        },
        "outputId": "ae5a8828-2120-4cec-c396-d724a1f96323"
      },
      "outputs": [
        {
          "output_type": "execute_result",
          "data": {
            "text/plain": [
              "8730"
            ]
          },
          "metadata": {},
          "execution_count": 43
        }
      ],
      "execution_count": null
    },
    {
      "cell_type": "markdown",
      "source": [
        "### 5. Modeling <a id=11></a>"
      ],
      "metadata": {
        "_uuid": "260a1235-958e-4446-a8c1-49ba2e8edda3",
        "_cell_guid": "d6ccd7c2-0204-438f-adf9-5a43f02a9978",
        "trusted": true,
        "id": "UpAC7atfblL-"
      }
    },
    {
      "cell_type": "markdown",
      "source": [
        "#### 5.1 Importing packages <a id=12></a>"
      ],
      "metadata": {
        "id": "e-g8Cd95blL-"
      }
    },
    {
      "cell_type": "code",
      "source": [
        "from keras.models import Sequential\n",
        "from keras.layers import Conv2D, MaxPooling2D, Activation, Dense, Flatten\n",
        "print(\"Packages imported...\")"
      ],
      "metadata": {
        "_uuid": "6900c3dd-09dc-4f84-bbc4-2515d2d6c193",
        "_cell_guid": "600cfa51-bec1-496f-ac4d-fe9cb700c03d",
        "jupyter": {
          "outputs_hidden": false
        },
        "_kg_hide-input": true,
        "trusted": true,
        "id": "rLpIp9jQblL-",
        "colab": {
          "base_uri": "https://localhost:8080/"
        },
        "outputId": "78e4cd04-6770-4ff7-f03b-013b218e16fa"
      },
      "outputs": [
        {
          "output_type": "stream",
          "name": "stdout",
          "text": [
            "Packages imported...\n"
          ]
        }
      ],
      "execution_count": null
    },
    {
      "cell_type": "markdown",
      "source": [
        "#### 5.2 Building model <a id=13></a>"
      ],
      "metadata": {
        "id": "FDeHXSXqblL-"
      }
    },
    {
      "cell_type": "code",
      "source": [
        "model = Sequential()\n",
        "\n",
        "model.add(Conv2D(32, (5, 5), input_shape=(64, 64, 3)))\n",
        "model.add(Activation('relu'))\n",
        "model.add(MaxPooling2D((2, 2)))\n",
        "\n",
        "model.add(Conv2D(64, (3, 3)))\n",
        "model.add(Activation('relu'))\n",
        "model.add(MaxPooling2D((2, 2)))\n",
        "\n",
        "model.add(Conv2D(64, (3, 3)))\n",
        "model.add(Activation('relu'))\n",
        "model.add(MaxPooling2D((2, 2)))\n",
        "\n",
        "model.add(Flatten())\n",
        "\n",
        "model.add(Dense(128, activation='relu'))\n",
        "\n",
        "model.add(Dense(29, activation='softmax'))\n",
        "\n",
        "model.summary()"
      ],
      "metadata": {
        "_uuid": "43bd378a-609f-4de1-a1ad-b1d169351098",
        "_cell_guid": "17f3751b-4927-483b-9d60-effe1ee70cf1",
        "jupyter": {
          "outputs_hidden": false
        },
        "_kg_hide-input": true,
        "trusted": true,
        "id": "vbwfcxUxblL-",
        "colab": {
          "base_uri": "https://localhost:8080/",
          "height": 568
        },
        "outputId": "ede841b9-7823-44f5-d9d5-beb4e293d856"
      },
      "outputs": [
        {
          "output_type": "stream",
          "name": "stderr",
          "text": [
            "/usr/local/lib/python3.10/dist-packages/keras/src/layers/convolutional/base_conv.py:107: UserWarning: Do not pass an `input_shape`/`input_dim` argument to a layer. When using Sequential models, prefer using an `Input(shape)` object as the first layer in the model instead.\n",
            "  super().__init__(activity_regularizer=activity_regularizer, **kwargs)\n"
          ]
        },
        {
          "output_type": "display_data",
          "data": {
            "text/plain": [
              "\u001b[1mModel: \"sequential_1\"\u001b[0m\n"
            ],
            "text/html": [
              "<pre style=\"white-space:pre;overflow-x:auto;line-height:normal;font-family:Menlo,'DejaVu Sans Mono',consolas,'Courier New',monospace\"><span style=\"font-weight: bold\">Model: \"sequential_1\"</span>\n",
              "</pre>\n"
            ]
          },
          "metadata": {}
        },
        {
          "output_type": "display_data",
          "data": {
            "text/plain": [
              "┏━━━━━━━━━━━━━━━━━━━━━━━━━━━━━━━━━━━━━━┳━━━━━━━━━━━━━━━━━━━━━━━━━━━━━┳━━━━━━━━━━━━━━━━━┓\n",
              "┃\u001b[1m \u001b[0m\u001b[1mLayer (type)                        \u001b[0m\u001b[1m \u001b[0m┃\u001b[1m \u001b[0m\u001b[1mOutput Shape               \u001b[0m\u001b[1m \u001b[0m┃\u001b[1m \u001b[0m\u001b[1m        Param #\u001b[0m\u001b[1m \u001b[0m┃\n",
              "┡━━━━━━━━━━━━━━━━━━━━━━━━━━━━━━━━━━━━━━╇━━━━━━━━━━━━━━━━━━━━━━━━━━━━━╇━━━━━━━━━━━━━━━━━┩\n",
              "│ conv2d_3 (\u001b[38;5;33mConv2D\u001b[0m)                    │ (\u001b[38;5;45mNone\u001b[0m, \u001b[38;5;34m60\u001b[0m, \u001b[38;5;34m60\u001b[0m, \u001b[38;5;34m32\u001b[0m)          │           \u001b[38;5;34m2,432\u001b[0m │\n",
              "├──────────────────────────────────────┼─────────────────────────────┼─────────────────┤\n",
              "│ activation_3 (\u001b[38;5;33mActivation\u001b[0m)            │ (\u001b[38;5;45mNone\u001b[0m, \u001b[38;5;34m60\u001b[0m, \u001b[38;5;34m60\u001b[0m, \u001b[38;5;34m32\u001b[0m)          │               \u001b[38;5;34m0\u001b[0m │\n",
              "├──────────────────────────────────────┼─────────────────────────────┼─────────────────┤\n",
              "│ max_pooling2d_3 (\u001b[38;5;33mMaxPooling2D\u001b[0m)       │ (\u001b[38;5;45mNone\u001b[0m, \u001b[38;5;34m30\u001b[0m, \u001b[38;5;34m30\u001b[0m, \u001b[38;5;34m32\u001b[0m)          │               \u001b[38;5;34m0\u001b[0m │\n",
              "├──────────────────────────────────────┼─────────────────────────────┼─────────────────┤\n",
              "│ conv2d_4 (\u001b[38;5;33mConv2D\u001b[0m)                    │ (\u001b[38;5;45mNone\u001b[0m, \u001b[38;5;34m28\u001b[0m, \u001b[38;5;34m28\u001b[0m, \u001b[38;5;34m64\u001b[0m)          │          \u001b[38;5;34m18,496\u001b[0m │\n",
              "├──────────────────────────────────────┼─────────────────────────────┼─────────────────┤\n",
              "│ activation_4 (\u001b[38;5;33mActivation\u001b[0m)            │ (\u001b[38;5;45mNone\u001b[0m, \u001b[38;5;34m28\u001b[0m, \u001b[38;5;34m28\u001b[0m, \u001b[38;5;34m64\u001b[0m)          │               \u001b[38;5;34m0\u001b[0m │\n",
              "├──────────────────────────────────────┼─────────────────────────────┼─────────────────┤\n",
              "│ max_pooling2d_4 (\u001b[38;5;33mMaxPooling2D\u001b[0m)       │ (\u001b[38;5;45mNone\u001b[0m, \u001b[38;5;34m14\u001b[0m, \u001b[38;5;34m14\u001b[0m, \u001b[38;5;34m64\u001b[0m)          │               \u001b[38;5;34m0\u001b[0m │\n",
              "├──────────────────────────────────────┼─────────────────────────────┼─────────────────┤\n",
              "│ conv2d_5 (\u001b[38;5;33mConv2D\u001b[0m)                    │ (\u001b[38;5;45mNone\u001b[0m, \u001b[38;5;34m12\u001b[0m, \u001b[38;5;34m12\u001b[0m, \u001b[38;5;34m64\u001b[0m)          │          \u001b[38;5;34m36,928\u001b[0m │\n",
              "├──────────────────────────────────────┼─────────────────────────────┼─────────────────┤\n",
              "│ activation_5 (\u001b[38;5;33mActivation\u001b[0m)            │ (\u001b[38;5;45mNone\u001b[0m, \u001b[38;5;34m12\u001b[0m, \u001b[38;5;34m12\u001b[0m, \u001b[38;5;34m64\u001b[0m)          │               \u001b[38;5;34m0\u001b[0m │\n",
              "├──────────────────────────────────────┼─────────────────────────────┼─────────────────┤\n",
              "│ max_pooling2d_5 (\u001b[38;5;33mMaxPooling2D\u001b[0m)       │ (\u001b[38;5;45mNone\u001b[0m, \u001b[38;5;34m6\u001b[0m, \u001b[38;5;34m6\u001b[0m, \u001b[38;5;34m64\u001b[0m)            │               \u001b[38;5;34m0\u001b[0m │\n",
              "├──────────────────────────────────────┼─────────────────────────────┼─────────────────┤\n",
              "│ flatten_1 (\u001b[38;5;33mFlatten\u001b[0m)                  │ (\u001b[38;5;45mNone\u001b[0m, \u001b[38;5;34m2304\u001b[0m)                │               \u001b[38;5;34m0\u001b[0m │\n",
              "├──────────────────────────────────────┼─────────────────────────────┼─────────────────┤\n",
              "│ dense_2 (\u001b[38;5;33mDense\u001b[0m)                      │ (\u001b[38;5;45mNone\u001b[0m, \u001b[38;5;34m128\u001b[0m)                 │         \u001b[38;5;34m295,040\u001b[0m │\n",
              "├──────────────────────────────────────┼─────────────────────────────┼─────────────────┤\n",
              "│ dense_3 (\u001b[38;5;33mDense\u001b[0m)                      │ (\u001b[38;5;45mNone\u001b[0m, \u001b[38;5;34m29\u001b[0m)                  │           \u001b[38;5;34m3,741\u001b[0m │\n",
              "└──────────────────────────────────────┴─────────────────────────────┴─────────────────┘\n"
            ],
            "text/html": [
              "<pre style=\"white-space:pre;overflow-x:auto;line-height:normal;font-family:Menlo,'DejaVu Sans Mono',consolas,'Courier New',monospace\">┏━━━━━━━━━━━━━━━━━━━━━━━━━━━━━━━━━━━━━━┳━━━━━━━━━━━━━━━━━━━━━━━━━━━━━┳━━━━━━━━━━━━━━━━━┓\n",
              "┃<span style=\"font-weight: bold\"> Layer (type)                         </span>┃<span style=\"font-weight: bold\"> Output Shape                </span>┃<span style=\"font-weight: bold\">         Param # </span>┃\n",
              "┡━━━━━━━━━━━━━━━━━━━━━━━━━━━━━━━━━━━━━━╇━━━━━━━━━━━━━━━━━━━━━━━━━━━━━╇━━━━━━━━━━━━━━━━━┩\n",
              "│ conv2d_3 (<span style=\"color: #0087ff; text-decoration-color: #0087ff\">Conv2D</span>)                    │ (<span style=\"color: #00d7ff; text-decoration-color: #00d7ff\">None</span>, <span style=\"color: #00af00; text-decoration-color: #00af00\">60</span>, <span style=\"color: #00af00; text-decoration-color: #00af00\">60</span>, <span style=\"color: #00af00; text-decoration-color: #00af00\">32</span>)          │           <span style=\"color: #00af00; text-decoration-color: #00af00\">2,432</span> │\n",
              "├──────────────────────────────────────┼─────────────────────────────┼─────────────────┤\n",
              "│ activation_3 (<span style=\"color: #0087ff; text-decoration-color: #0087ff\">Activation</span>)            │ (<span style=\"color: #00d7ff; text-decoration-color: #00d7ff\">None</span>, <span style=\"color: #00af00; text-decoration-color: #00af00\">60</span>, <span style=\"color: #00af00; text-decoration-color: #00af00\">60</span>, <span style=\"color: #00af00; text-decoration-color: #00af00\">32</span>)          │               <span style=\"color: #00af00; text-decoration-color: #00af00\">0</span> │\n",
              "├──────────────────────────────────────┼─────────────────────────────┼─────────────────┤\n",
              "│ max_pooling2d_3 (<span style=\"color: #0087ff; text-decoration-color: #0087ff\">MaxPooling2D</span>)       │ (<span style=\"color: #00d7ff; text-decoration-color: #00d7ff\">None</span>, <span style=\"color: #00af00; text-decoration-color: #00af00\">30</span>, <span style=\"color: #00af00; text-decoration-color: #00af00\">30</span>, <span style=\"color: #00af00; text-decoration-color: #00af00\">32</span>)          │               <span style=\"color: #00af00; text-decoration-color: #00af00\">0</span> │\n",
              "├──────────────────────────────────────┼─────────────────────────────┼─────────────────┤\n",
              "│ conv2d_4 (<span style=\"color: #0087ff; text-decoration-color: #0087ff\">Conv2D</span>)                    │ (<span style=\"color: #00d7ff; text-decoration-color: #00d7ff\">None</span>, <span style=\"color: #00af00; text-decoration-color: #00af00\">28</span>, <span style=\"color: #00af00; text-decoration-color: #00af00\">28</span>, <span style=\"color: #00af00; text-decoration-color: #00af00\">64</span>)          │          <span style=\"color: #00af00; text-decoration-color: #00af00\">18,496</span> │\n",
              "├──────────────────────────────────────┼─────────────────────────────┼─────────────────┤\n",
              "│ activation_4 (<span style=\"color: #0087ff; text-decoration-color: #0087ff\">Activation</span>)            │ (<span style=\"color: #00d7ff; text-decoration-color: #00d7ff\">None</span>, <span style=\"color: #00af00; text-decoration-color: #00af00\">28</span>, <span style=\"color: #00af00; text-decoration-color: #00af00\">28</span>, <span style=\"color: #00af00; text-decoration-color: #00af00\">64</span>)          │               <span style=\"color: #00af00; text-decoration-color: #00af00\">0</span> │\n",
              "├──────────────────────────────────────┼─────────────────────────────┼─────────────────┤\n",
              "│ max_pooling2d_4 (<span style=\"color: #0087ff; text-decoration-color: #0087ff\">MaxPooling2D</span>)       │ (<span style=\"color: #00d7ff; text-decoration-color: #00d7ff\">None</span>, <span style=\"color: #00af00; text-decoration-color: #00af00\">14</span>, <span style=\"color: #00af00; text-decoration-color: #00af00\">14</span>, <span style=\"color: #00af00; text-decoration-color: #00af00\">64</span>)          │               <span style=\"color: #00af00; text-decoration-color: #00af00\">0</span> │\n",
              "├──────────────────────────────────────┼─────────────────────────────┼─────────────────┤\n",
              "│ conv2d_5 (<span style=\"color: #0087ff; text-decoration-color: #0087ff\">Conv2D</span>)                    │ (<span style=\"color: #00d7ff; text-decoration-color: #00d7ff\">None</span>, <span style=\"color: #00af00; text-decoration-color: #00af00\">12</span>, <span style=\"color: #00af00; text-decoration-color: #00af00\">12</span>, <span style=\"color: #00af00; text-decoration-color: #00af00\">64</span>)          │          <span style=\"color: #00af00; text-decoration-color: #00af00\">36,928</span> │\n",
              "├──────────────────────────────────────┼─────────────────────────────┼─────────────────┤\n",
              "│ activation_5 (<span style=\"color: #0087ff; text-decoration-color: #0087ff\">Activation</span>)            │ (<span style=\"color: #00d7ff; text-decoration-color: #00d7ff\">None</span>, <span style=\"color: #00af00; text-decoration-color: #00af00\">12</span>, <span style=\"color: #00af00; text-decoration-color: #00af00\">12</span>, <span style=\"color: #00af00; text-decoration-color: #00af00\">64</span>)          │               <span style=\"color: #00af00; text-decoration-color: #00af00\">0</span> │\n",
              "├──────────────────────────────────────┼─────────────────────────────┼─────────────────┤\n",
              "│ max_pooling2d_5 (<span style=\"color: #0087ff; text-decoration-color: #0087ff\">MaxPooling2D</span>)       │ (<span style=\"color: #00d7ff; text-decoration-color: #00d7ff\">None</span>, <span style=\"color: #00af00; text-decoration-color: #00af00\">6</span>, <span style=\"color: #00af00; text-decoration-color: #00af00\">6</span>, <span style=\"color: #00af00; text-decoration-color: #00af00\">64</span>)            │               <span style=\"color: #00af00; text-decoration-color: #00af00\">0</span> │\n",
              "├──────────────────────────────────────┼─────────────────────────────┼─────────────────┤\n",
              "│ flatten_1 (<span style=\"color: #0087ff; text-decoration-color: #0087ff\">Flatten</span>)                  │ (<span style=\"color: #00d7ff; text-decoration-color: #00d7ff\">None</span>, <span style=\"color: #00af00; text-decoration-color: #00af00\">2304</span>)                │               <span style=\"color: #00af00; text-decoration-color: #00af00\">0</span> │\n",
              "├──────────────────────────────────────┼─────────────────────────────┼─────────────────┤\n",
              "│ dense_2 (<span style=\"color: #0087ff; text-decoration-color: #0087ff\">Dense</span>)                      │ (<span style=\"color: #00d7ff; text-decoration-color: #00d7ff\">None</span>, <span style=\"color: #00af00; text-decoration-color: #00af00\">128</span>)                 │         <span style=\"color: #00af00; text-decoration-color: #00af00\">295,040</span> │\n",
              "├──────────────────────────────────────┼─────────────────────────────┼─────────────────┤\n",
              "│ dense_3 (<span style=\"color: #0087ff; text-decoration-color: #0087ff\">Dense</span>)                      │ (<span style=\"color: #00d7ff; text-decoration-color: #00d7ff\">None</span>, <span style=\"color: #00af00; text-decoration-color: #00af00\">29</span>)                  │           <span style=\"color: #00af00; text-decoration-color: #00af00\">3,741</span> │\n",
              "└──────────────────────────────────────┴─────────────────────────────┴─────────────────┘\n",
              "</pre>\n"
            ]
          },
          "metadata": {}
        },
        {
          "output_type": "display_data",
          "data": {
            "text/plain": [
              "\u001b[1m Total params: \u001b[0m\u001b[38;5;34m356,637\u001b[0m (1.36 MB)\n"
            ],
            "text/html": [
              "<pre style=\"white-space:pre;overflow-x:auto;line-height:normal;font-family:Menlo,'DejaVu Sans Mono',consolas,'Courier New',monospace\"><span style=\"font-weight: bold\"> Total params: </span><span style=\"color: #00af00; text-decoration-color: #00af00\">356,637</span> (1.36 MB)\n",
              "</pre>\n"
            ]
          },
          "metadata": {}
        },
        {
          "output_type": "display_data",
          "data": {
            "text/plain": [
              "\u001b[1m Trainable params: \u001b[0m\u001b[38;5;34m356,637\u001b[0m (1.36 MB)\n"
            ],
            "text/html": [
              "<pre style=\"white-space:pre;overflow-x:auto;line-height:normal;font-family:Menlo,'DejaVu Sans Mono',consolas,'Courier New',monospace\"><span style=\"font-weight: bold\"> Trainable params: </span><span style=\"color: #00af00; text-decoration-color: #00af00\">356,637</span> (1.36 MB)\n",
              "</pre>\n"
            ]
          },
          "metadata": {}
        },
        {
          "output_type": "display_data",
          "data": {
            "text/plain": [
              "\u001b[1m Non-trainable params: \u001b[0m\u001b[38;5;34m0\u001b[0m (0.00 B)\n"
            ],
            "text/html": [
              "<pre style=\"white-space:pre;overflow-x:auto;line-height:normal;font-family:Menlo,'DejaVu Sans Mono',consolas,'Courier New',monospace\"><span style=\"font-weight: bold\"> Non-trainable params: </span><span style=\"color: #00af00; text-decoration-color: #00af00\">0</span> (0.00 B)\n",
              "</pre>\n"
            ]
          },
          "metadata": {}
        }
      ],
      "execution_count": null
    },
    {
      "cell_type": "markdown",
      "source": [
        "#### 5.3 Early Stopping and Compiling <a id=14></a>"
      ],
      "metadata": {
        "id": "Dij8yAkgblL-"
      }
    },
    {
      "cell_type": "markdown",
      "source": [
        "##### 5.3.1 Early Stopping"
      ],
      "metadata": {
        "id": "PrUNwuFnblL-"
      }
    },
    {
      "cell_type": "markdown",
      "source": [
        "Early Stopping is done to make sure the model fitting stops at the most optimized accuracy point. After the early stopping point, the model might start overfitting. For testing purposes, this step can be skipped and complete training can be done."
      ],
      "metadata": {
        "id": "P8XpyjC1blL-"
      }
    },
    {
      "cell_type": "code",
      "source": [
        "from tensorflow.keras.callbacks import EarlyStopping\n",
        "early_stop = EarlyStopping(monitor='val_loss',patience=2)"
      ],
      "metadata": {
        "_uuid": "e48b5f93-6c7b-4cfa-af41-0ef7f449b51e",
        "_cell_guid": "166bc66e-a184-4685-8bab-07a4fd82b5c5",
        "jupyter": {
          "outputs_hidden": false
        },
        "_kg_hide-input": true,
        "trusted": true,
        "id": "ZAEvPjcOblL-"
      },
      "outputs": [],
      "execution_count": null
    },
    {
      "cell_type": "markdown",
      "source": [
        "##### 5.3.2 Compiling"
      ],
      "metadata": {
        "id": "JN8YYg42blL_"
      }
    },
    {
      "cell_type": "code",
      "source": [
        "model.compile(optimizer='adam',\n",
        "              loss='categorical_crossentropy',\n",
        "              metrics=['accuracy'])"
      ],
      "metadata": {
        "_uuid": "45f4dafb-d26a-4c14-896a-cde3dff1212a",
        "_cell_guid": "207189e1-ee1b-466d-b032-c0e24c10d942",
        "jupyter": {
          "outputs_hidden": false
        },
        "_kg_hide-input": true,
        "trusted": true,
        "id": "4w7_lCmoblL_"
      },
      "outputs": [],
      "execution_count": null
    },
    {
      "cell_type": "markdown",
      "source": [
        "#### 5.4 Model fitting <a id=15></a>"
      ],
      "metadata": {
        "_uuid": "9cad5ad2-3087-4237-8354-32633dab6b1d",
        "_cell_guid": "e8138e59-3c44-4575-ab15-c2f9a605e8ae",
        "trusted": true,
        "id": "qy6XaPv6blL_"
      }
    },
    {
      "cell_type": "code",
      "source": [
        "model.fit(X_train, y_cat_train,\n",
        "          epochs=50,\n",
        "          batch_size=64,\n",
        "          verbose=2,\n",
        "          validation_data=(X_test, y_cat_test),\n",
        "         callbacks=[early_stop])"
      ],
      "metadata": {
        "_uuid": "1a1d6a1a-a207-41af-920b-044f27265cfa",
        "_cell_guid": "821c522f-11c6-45e9-aae9-b0f85167f8be",
        "jupyter": {
          "outputs_hidden": false
        },
        "_kg_hide-input": true,
        "trusted": true,
        "id": "EEafpykRblL_",
        "colab": {
          "base_uri": "https://localhost:8080/"
        },
        "outputId": "2f200688-f6a8-43bc-d72d-e1e008b63f4c"
      },
      "outputs": [
        {
          "output_type": "stream",
          "name": "stdout",
          "text": [
            "Epoch 1/50\n",
            "952/952 - 18s - 19ms/step - accuracy: 0.7120 - loss: 0.9679 - val_accuracy: 0.9175 - val_loss: 0.2520\n",
            "Epoch 2/50\n",
            "952/952 - 14s - 15ms/step - accuracy: 0.9552 - loss: 0.1375 - val_accuracy: 0.9546 - val_loss: 0.1384\n",
            "Epoch 3/50\n",
            "952/952 - 8s - 9ms/step - accuracy: 0.9784 - loss: 0.0704 - val_accuracy: 0.9730 - val_loss: 0.0906\n",
            "Epoch 4/50\n",
            "952/952 - 12s - 12ms/step - accuracy: 0.9857 - loss: 0.0471 - val_accuracy: 0.9810 - val_loss: 0.0621\n",
            "Epoch 5/50\n",
            "952/952 - 9s - 9ms/step - accuracy: 0.9875 - loss: 0.0417 - val_accuracy: 0.9898 - val_loss: 0.0321\n",
            "Epoch 6/50\n",
            "952/952 - 8s - 9ms/step - accuracy: 0.9901 - loss: 0.0334 - val_accuracy: 0.9938 - val_loss: 0.0212\n",
            "Epoch 7/50\n",
            "952/952 - 10s - 11ms/step - accuracy: 0.9906 - loss: 0.0301 - val_accuracy: 0.9931 - val_loss: 0.0217\n",
            "Epoch 8/50\n",
            "952/952 - 10s - 10ms/step - accuracy: 0.9932 - loss: 0.0241 - val_accuracy: 0.9872 - val_loss: 0.0421\n"
          ]
        },
        {
          "output_type": "execute_result",
          "data": {
            "text/plain": [
              "<keras.src.callbacks.history.History at 0x7ebb60138af0>"
            ]
          },
          "metadata": {},
          "execution_count": 48
        }
      ],
      "execution_count": null
    },
    {
      "cell_type": "markdown",
      "source": [
        "#### 5.5 Model metrics <a id=16></a>"
      ],
      "metadata": {
        "_uuid": "8ebe106b-4eeb-44ca-9afb-9c91d02962b2",
        "_cell_guid": "2c72fb78-8a46-4faf-ab4b-339b65c8b9dd",
        "trusted": true,
        "id": "XUT71tZqblL_"
      }
    },
    {
      "cell_type": "markdown",
      "source": [
        "##### 5.5.1 Metrics from model history"
      ],
      "metadata": {
        "id": "RqXvxWCCblMD"
      }
    },
    {
      "cell_type": "code",
      "source": [
        "metrics = pd.DataFrame(model.history.history)\n",
        "print(\"The model metrics are\")\n",
        "metrics"
      ],
      "metadata": {
        "_uuid": "e1e23093-cca8-4e14-875f-2a7e2fd88f2c",
        "_cell_guid": "74862d05-feff-4e9c-b634-77b5a2daa8c6",
        "jupyter": {
          "outputs_hidden": false
        },
        "_kg_hide-input": true,
        "trusted": true,
        "id": "XkZvAyTublMD",
        "colab": {
          "base_uri": "https://localhost:8080/",
          "height": 317
        },
        "outputId": "6bc0f7eb-6a19-4d92-80e0-f861a1f95afe"
      },
      "outputs": [
        {
          "output_type": "stream",
          "name": "stdout",
          "text": [
            "The model metrics are\n"
          ]
        },
        {
          "output_type": "execute_result",
          "data": {
            "text/plain": [
              "   accuracy      loss  val_accuracy  val_loss\n",
              "0  0.712020  0.967893      0.917548  0.252004\n",
              "1  0.955205  0.137543      0.954559  0.138358\n",
              "2  0.978424  0.070435      0.973027  0.090592\n",
              "3  0.985665  0.047130      0.980996  0.062097\n",
              "4  0.987537  0.041739      0.989847  0.032085\n",
              "5  0.990082  0.033377      0.993755  0.021238\n",
              "6  0.990624  0.030137      0.993103  0.021685\n",
              "7  0.993169  0.024060      0.987241  0.042086"
            ],
            "text/html": [
              "\n",
              "  <div id=\"df-0e89f517-7028-4677-a61c-6a07164ea543\" class=\"colab-df-container\">\n",
              "    <div>\n",
              "<style scoped>\n",
              "    .dataframe tbody tr th:only-of-type {\n",
              "        vertical-align: middle;\n",
              "    }\n",
              "\n",
              "    .dataframe tbody tr th {\n",
              "        vertical-align: top;\n",
              "    }\n",
              "\n",
              "    .dataframe thead th {\n",
              "        text-align: right;\n",
              "    }\n",
              "</style>\n",
              "<table border=\"1\" class=\"dataframe\">\n",
              "  <thead>\n",
              "    <tr style=\"text-align: right;\">\n",
              "      <th></th>\n",
              "      <th>accuracy</th>\n",
              "      <th>loss</th>\n",
              "      <th>val_accuracy</th>\n",
              "      <th>val_loss</th>\n",
              "    </tr>\n",
              "  </thead>\n",
              "  <tbody>\n",
              "    <tr>\n",
              "      <th>0</th>\n",
              "      <td>0.712020</td>\n",
              "      <td>0.967893</td>\n",
              "      <td>0.917548</td>\n",
              "      <td>0.252004</td>\n",
              "    </tr>\n",
              "    <tr>\n",
              "      <th>1</th>\n",
              "      <td>0.955205</td>\n",
              "      <td>0.137543</td>\n",
              "      <td>0.954559</td>\n",
              "      <td>0.138358</td>\n",
              "    </tr>\n",
              "    <tr>\n",
              "      <th>2</th>\n",
              "      <td>0.978424</td>\n",
              "      <td>0.070435</td>\n",
              "      <td>0.973027</td>\n",
              "      <td>0.090592</td>\n",
              "    </tr>\n",
              "    <tr>\n",
              "      <th>3</th>\n",
              "      <td>0.985665</td>\n",
              "      <td>0.047130</td>\n",
              "      <td>0.980996</td>\n",
              "      <td>0.062097</td>\n",
              "    </tr>\n",
              "    <tr>\n",
              "      <th>4</th>\n",
              "      <td>0.987537</td>\n",
              "      <td>0.041739</td>\n",
              "      <td>0.989847</td>\n",
              "      <td>0.032085</td>\n",
              "    </tr>\n",
              "    <tr>\n",
              "      <th>5</th>\n",
              "      <td>0.990082</td>\n",
              "      <td>0.033377</td>\n",
              "      <td>0.993755</td>\n",
              "      <td>0.021238</td>\n",
              "    </tr>\n",
              "    <tr>\n",
              "      <th>6</th>\n",
              "      <td>0.990624</td>\n",
              "      <td>0.030137</td>\n",
              "      <td>0.993103</td>\n",
              "      <td>0.021685</td>\n",
              "    </tr>\n",
              "    <tr>\n",
              "      <th>7</th>\n",
              "      <td>0.993169</td>\n",
              "      <td>0.024060</td>\n",
              "      <td>0.987241</td>\n",
              "      <td>0.042086</td>\n",
              "    </tr>\n",
              "  </tbody>\n",
              "</table>\n",
              "</div>\n",
              "    <div class=\"colab-df-buttons\">\n",
              "\n",
              "  <div class=\"colab-df-container\">\n",
              "    <button class=\"colab-df-convert\" onclick=\"convertToInteractive('df-0e89f517-7028-4677-a61c-6a07164ea543')\"\n",
              "            title=\"Convert this dataframe to an interactive table.\"\n",
              "            style=\"display:none;\">\n",
              "\n",
              "  <svg xmlns=\"http://www.w3.org/2000/svg\" height=\"24px\" viewBox=\"0 -960 960 960\">\n",
              "    <path d=\"M120-120v-720h720v720H120Zm60-500h600v-160H180v160Zm220 220h160v-160H400v160Zm0 220h160v-160H400v160ZM180-400h160v-160H180v160Zm440 0h160v-160H620v160ZM180-180h160v-160H180v160Zm440 0h160v-160H620v160Z\"/>\n",
              "  </svg>\n",
              "    </button>\n",
              "\n",
              "  <style>\n",
              "    .colab-df-container {\n",
              "      display:flex;\n",
              "      gap: 12px;\n",
              "    }\n",
              "\n",
              "    .colab-df-convert {\n",
              "      background-color: #E8F0FE;\n",
              "      border: none;\n",
              "      border-radius: 50%;\n",
              "      cursor: pointer;\n",
              "      display: none;\n",
              "      fill: #1967D2;\n",
              "      height: 32px;\n",
              "      padding: 0 0 0 0;\n",
              "      width: 32px;\n",
              "    }\n",
              "\n",
              "    .colab-df-convert:hover {\n",
              "      background-color: #E2EBFA;\n",
              "      box-shadow: 0px 1px 2px rgba(60, 64, 67, 0.3), 0px 1px 3px 1px rgba(60, 64, 67, 0.15);\n",
              "      fill: #174EA6;\n",
              "    }\n",
              "\n",
              "    .colab-df-buttons div {\n",
              "      margin-bottom: 4px;\n",
              "    }\n",
              "\n",
              "    [theme=dark] .colab-df-convert {\n",
              "      background-color: #3B4455;\n",
              "      fill: #D2E3FC;\n",
              "    }\n",
              "\n",
              "    [theme=dark] .colab-df-convert:hover {\n",
              "      background-color: #434B5C;\n",
              "      box-shadow: 0px 1px 3px 1px rgba(0, 0, 0, 0.15);\n",
              "      filter: drop-shadow(0px 1px 2px rgba(0, 0, 0, 0.3));\n",
              "      fill: #FFFFFF;\n",
              "    }\n",
              "  </style>\n",
              "\n",
              "    <script>\n",
              "      const buttonEl =\n",
              "        document.querySelector('#df-0e89f517-7028-4677-a61c-6a07164ea543 button.colab-df-convert');\n",
              "      buttonEl.style.display =\n",
              "        google.colab.kernel.accessAllowed ? 'block' : 'none';\n",
              "\n",
              "      async function convertToInteractive(key) {\n",
              "        const element = document.querySelector('#df-0e89f517-7028-4677-a61c-6a07164ea543');\n",
              "        const dataTable =\n",
              "          await google.colab.kernel.invokeFunction('convertToInteractive',\n",
              "                                                    [key], {});\n",
              "        if (!dataTable) return;\n",
              "\n",
              "        const docLinkHtml = 'Like what you see? Visit the ' +\n",
              "          '<a target=\"_blank\" href=https://colab.research.google.com/notebooks/data_table.ipynb>data table notebook</a>'\n",
              "          + ' to learn more about interactive tables.';\n",
              "        element.innerHTML = '';\n",
              "        dataTable['output_type'] = 'display_data';\n",
              "        await google.colab.output.renderOutput(dataTable, element);\n",
              "        const docLink = document.createElement('div');\n",
              "        docLink.innerHTML = docLinkHtml;\n",
              "        element.appendChild(docLink);\n",
              "      }\n",
              "    </script>\n",
              "  </div>\n",
              "\n",
              "\n",
              "<div id=\"df-4ea38247-4361-4f39-8221-842c6030f21a\">\n",
              "  <button class=\"colab-df-quickchart\" onclick=\"quickchart('df-4ea38247-4361-4f39-8221-842c6030f21a')\"\n",
              "            title=\"Suggest charts\"\n",
              "            style=\"display:none;\">\n",
              "\n",
              "<svg xmlns=\"http://www.w3.org/2000/svg\" height=\"24px\"viewBox=\"0 0 24 24\"\n",
              "     width=\"24px\">\n",
              "    <g>\n",
              "        <path d=\"M19 3H5c-1.1 0-2 .9-2 2v14c0 1.1.9 2 2 2h14c1.1 0 2-.9 2-2V5c0-1.1-.9-2-2-2zM9 17H7v-7h2v7zm4 0h-2V7h2v10zm4 0h-2v-4h2v4z\"/>\n",
              "    </g>\n",
              "</svg>\n",
              "  </button>\n",
              "\n",
              "<style>\n",
              "  .colab-df-quickchart {\n",
              "      --bg-color: #E8F0FE;\n",
              "      --fill-color: #1967D2;\n",
              "      --hover-bg-color: #E2EBFA;\n",
              "      --hover-fill-color: #174EA6;\n",
              "      --disabled-fill-color: #AAA;\n",
              "      --disabled-bg-color: #DDD;\n",
              "  }\n",
              "\n",
              "  [theme=dark] .colab-df-quickchart {\n",
              "      --bg-color: #3B4455;\n",
              "      --fill-color: #D2E3FC;\n",
              "      --hover-bg-color: #434B5C;\n",
              "      --hover-fill-color: #FFFFFF;\n",
              "      --disabled-bg-color: #3B4455;\n",
              "      --disabled-fill-color: #666;\n",
              "  }\n",
              "\n",
              "  .colab-df-quickchart {\n",
              "    background-color: var(--bg-color);\n",
              "    border: none;\n",
              "    border-radius: 50%;\n",
              "    cursor: pointer;\n",
              "    display: none;\n",
              "    fill: var(--fill-color);\n",
              "    height: 32px;\n",
              "    padding: 0;\n",
              "    width: 32px;\n",
              "  }\n",
              "\n",
              "  .colab-df-quickchart:hover {\n",
              "    background-color: var(--hover-bg-color);\n",
              "    box-shadow: 0 1px 2px rgba(60, 64, 67, 0.3), 0 1px 3px 1px rgba(60, 64, 67, 0.15);\n",
              "    fill: var(--button-hover-fill-color);\n",
              "  }\n",
              "\n",
              "  .colab-df-quickchart-complete:disabled,\n",
              "  .colab-df-quickchart-complete:disabled:hover {\n",
              "    background-color: var(--disabled-bg-color);\n",
              "    fill: var(--disabled-fill-color);\n",
              "    box-shadow: none;\n",
              "  }\n",
              "\n",
              "  .colab-df-spinner {\n",
              "    border: 2px solid var(--fill-color);\n",
              "    border-color: transparent;\n",
              "    border-bottom-color: var(--fill-color);\n",
              "    animation:\n",
              "      spin 1s steps(1) infinite;\n",
              "  }\n",
              "\n",
              "  @keyframes spin {\n",
              "    0% {\n",
              "      border-color: transparent;\n",
              "      border-bottom-color: var(--fill-color);\n",
              "      border-left-color: var(--fill-color);\n",
              "    }\n",
              "    20% {\n",
              "      border-color: transparent;\n",
              "      border-left-color: var(--fill-color);\n",
              "      border-top-color: var(--fill-color);\n",
              "    }\n",
              "    30% {\n",
              "      border-color: transparent;\n",
              "      border-left-color: var(--fill-color);\n",
              "      border-top-color: var(--fill-color);\n",
              "      border-right-color: var(--fill-color);\n",
              "    }\n",
              "    40% {\n",
              "      border-color: transparent;\n",
              "      border-right-color: var(--fill-color);\n",
              "      border-top-color: var(--fill-color);\n",
              "    }\n",
              "    60% {\n",
              "      border-color: transparent;\n",
              "      border-right-color: var(--fill-color);\n",
              "    }\n",
              "    80% {\n",
              "      border-color: transparent;\n",
              "      border-right-color: var(--fill-color);\n",
              "      border-bottom-color: var(--fill-color);\n",
              "    }\n",
              "    90% {\n",
              "      border-color: transparent;\n",
              "      border-bottom-color: var(--fill-color);\n",
              "    }\n",
              "  }\n",
              "</style>\n",
              "\n",
              "  <script>\n",
              "    async function quickchart(key) {\n",
              "      const quickchartButtonEl =\n",
              "        document.querySelector('#' + key + ' button');\n",
              "      quickchartButtonEl.disabled = true;  // To prevent multiple clicks.\n",
              "      quickchartButtonEl.classList.add('colab-df-spinner');\n",
              "      try {\n",
              "        const charts = await google.colab.kernel.invokeFunction(\n",
              "            'suggestCharts', [key], {});\n",
              "      } catch (error) {\n",
              "        console.error('Error during call to suggestCharts:', error);\n",
              "      }\n",
              "      quickchartButtonEl.classList.remove('colab-df-spinner');\n",
              "      quickchartButtonEl.classList.add('colab-df-quickchart-complete');\n",
              "    }\n",
              "    (() => {\n",
              "      let quickchartButtonEl =\n",
              "        document.querySelector('#df-4ea38247-4361-4f39-8221-842c6030f21a button');\n",
              "      quickchartButtonEl.style.display =\n",
              "        google.colab.kernel.accessAllowed ? 'block' : 'none';\n",
              "    })();\n",
              "  </script>\n",
              "</div>\n",
              "\n",
              "  <div id=\"id_d371d775-fde7-4e37-b827-0aa99976a22d\">\n",
              "    <style>\n",
              "      .colab-df-generate {\n",
              "        background-color: #E8F0FE;\n",
              "        border: none;\n",
              "        border-radius: 50%;\n",
              "        cursor: pointer;\n",
              "        display: none;\n",
              "        fill: #1967D2;\n",
              "        height: 32px;\n",
              "        padding: 0 0 0 0;\n",
              "        width: 32px;\n",
              "      }\n",
              "\n",
              "      .colab-df-generate:hover {\n",
              "        background-color: #E2EBFA;\n",
              "        box-shadow: 0px 1px 2px rgba(60, 64, 67, 0.3), 0px 1px 3px 1px rgba(60, 64, 67, 0.15);\n",
              "        fill: #174EA6;\n",
              "      }\n",
              "\n",
              "      [theme=dark] .colab-df-generate {\n",
              "        background-color: #3B4455;\n",
              "        fill: #D2E3FC;\n",
              "      }\n",
              "\n",
              "      [theme=dark] .colab-df-generate:hover {\n",
              "        background-color: #434B5C;\n",
              "        box-shadow: 0px 1px 3px 1px rgba(0, 0, 0, 0.15);\n",
              "        filter: drop-shadow(0px 1px 2px rgba(0, 0, 0, 0.3));\n",
              "        fill: #FFFFFF;\n",
              "      }\n",
              "    </style>\n",
              "    <button class=\"colab-df-generate\" onclick=\"generateWithVariable('metrics')\"\n",
              "            title=\"Generate code using this dataframe.\"\n",
              "            style=\"display:none;\">\n",
              "\n",
              "  <svg xmlns=\"http://www.w3.org/2000/svg\" height=\"24px\"viewBox=\"0 0 24 24\"\n",
              "       width=\"24px\">\n",
              "    <path d=\"M7,19H8.4L18.45,9,17,7.55,7,17.6ZM5,21V16.75L18.45,3.32a2,2,0,0,1,2.83,0l1.4,1.43a1.91,1.91,0,0,1,.58,1.4,1.91,1.91,0,0,1-.58,1.4L9.25,21ZM18.45,9,17,7.55Zm-12,3A5.31,5.31,0,0,0,4.9,8.1,5.31,5.31,0,0,0,1,6.5,5.31,5.31,0,0,0,4.9,4.9,5.31,5.31,0,0,0,6.5,1,5.31,5.31,0,0,0,8.1,4.9,5.31,5.31,0,0,0,12,6.5,5.46,5.46,0,0,0,6.5,12Z\"/>\n",
              "  </svg>\n",
              "    </button>\n",
              "    <script>\n",
              "      (() => {\n",
              "      const buttonEl =\n",
              "        document.querySelector('#id_d371d775-fde7-4e37-b827-0aa99976a22d button.colab-df-generate');\n",
              "      buttonEl.style.display =\n",
              "        google.colab.kernel.accessAllowed ? 'block' : 'none';\n",
              "\n",
              "      buttonEl.onclick = () => {\n",
              "        google.colab.notebook.generateWithVariable('metrics');\n",
              "      }\n",
              "      })();\n",
              "    </script>\n",
              "  </div>\n",
              "\n",
              "    </div>\n",
              "  </div>\n"
            ],
            "application/vnd.google.colaboratory.intrinsic+json": {
              "type": "dataframe",
              "variable_name": "metrics",
              "summary": "{\n  \"name\": \"metrics\",\n  \"rows\": 8,\n  \"fields\": [\n    {\n      \"column\": \"accuracy\",\n      \"properties\": {\n        \"dtype\": \"number\",\n        \"std\": 0.09655826277149719,\n        \"min\": 0.712019681930542,\n        \"max\": 0.9931691288948059,\n        \"num_unique_values\": 8,\n        \"samples\": [\n          0.9552052617073059,\n          0.9900820851325989,\n          0.712019681930542\n        ],\n        \"semantic_type\": \"\",\n        \"description\": \"\"\n      }\n    },\n    {\n      \"column\": \"loss\",\n      \"properties\": {\n        \"dtype\": \"number\",\n        \"std\": 0.3248441896943715,\n        \"min\": 0.024060377851128578,\n        \"max\": 0.9678930640220642,\n        \"num_unique_values\": 8,\n        \"samples\": [\n          0.13754314184188843,\n          0.033376868814229965,\n          0.9678930640220642\n        ],\n        \"semantic_type\": \"\",\n        \"description\": \"\"\n      }\n    },\n    {\n      \"column\": \"val_accuracy\",\n      \"properties\": {\n        \"dtype\": \"number\",\n        \"std\": 0.02617484822654045,\n        \"min\": 0.917547881603241,\n        \"max\": 0.9937548041343689,\n        \"num_unique_values\": 8,\n        \"samples\": [\n          0.9545593857765198,\n          0.9937548041343689,\n          0.917547881603241\n        ],\n        \"semantic_type\": \"\",\n        \"description\": \"\"\n      }\n    },\n    {\n      \"column\": \"val_loss\",\n      \"properties\": {\n        \"dtype\": \"number\",\n        \"std\": 0.07924636893889467,\n        \"min\": 0.021237626671791077,\n        \"max\": 0.2520035207271576,\n        \"num_unique_values\": 8,\n        \"samples\": [\n          0.13835838437080383,\n          0.021237626671791077,\n          0.2520035207271576\n        ],\n        \"semantic_type\": \"\",\n        \"description\": \"\"\n      }\n    }\n  ]\n}"
            }
          },
          "metadata": {},
          "execution_count": 49
        }
      ],
      "execution_count": null
    },
    {
      "cell_type": "markdown",
      "source": [
        "##### 5.5.2 Plotting the training loss"
      ],
      "metadata": {
        "id": "5U9hg7nVblMD"
      }
    },
    {
      "cell_type": "code",
      "source": [
        "metrics[['loss','val_loss']].plot()\n",
        "plt.show()"
      ],
      "metadata": {
        "_uuid": "6ab8f14a-faa4-446f-9fc9-afc2778ce699",
        "_cell_guid": "de0a1bf2-1bd7-4cb3-a63a-3b3fb85618e3",
        "jupyter": {
          "outputs_hidden": false
        },
        "_kg_hide-input": true,
        "trusted": true,
        "id": "O4RaqU9_blMD",
        "colab": {
          "base_uri": "https://localhost:8080/",
          "height": 430
        },
        "outputId": "b1e29cb1-2a17-4f30-a116-4cd7582abcd9"
      },
      "outputs": [
        {
          "output_type": "display_data",
          "data": {
            "text/plain": [
              "<Figure size 640x480 with 1 Axes>"
            ],
            "image/png": "[encoded data removed]"
          },
          "metadata": {}
        }
      ],
      "execution_count": null
    },
    {
      "cell_type": "markdown",
      "source": [
        "##### 5.5.3 Plotting the testing loss"
      ],
      "metadata": {
        "id": "Wz8ROko0blMD"
      }
    },
    {
      "cell_type": "code",
      "source": [
        "metrics[['accuracy','val_accuracy']].plot()\n",
        "plt.show()"
      ],
      "metadata": {
        "_uuid": "97d6cb1a-10ec-4849-a1b2-f0551b704b4c",
        "_cell_guid": "9209698c-13bb-4ae9-a309-79771ac5354d",
        "jupyter": {
          "outputs_hidden": false
        },
        "_kg_hide-input": true,
        "trusted": true,
        "id": "irPy1WuNblMD",
        "colab": {
          "base_uri": "https://localhost:8080/",
          "height": 430
        },
        "outputId": "4cb5161a-7bed-45b6-e480-4a8fec4c3c53"
      },
      "outputs": [
        {
          "output_type": "display_data",
          "data": {
            "text/plain": [
              "<Figure size 640x480 with 1 Axes>"
            ],
            "image/png": "[encoded data removed]"
          },
          "metadata": {}
        }
      ],
      "execution_count": null
    },
    {
      "cell_type": "markdown",
      "source": [
        "##### 5.5.4 Model evaluation"
      ],
      "metadata": {
        "id": "sG35d-BrblME"
      }
    },
    {
      "cell_type": "code",
      "source": [
        "model.evaluate(X_test,y_cat_test,verbose=0)"
      ],
      "metadata": {
        "_uuid": "828a8b42-c224-488e-8e38-34b5d98e2ae7",
        "_cell_guid": "716cf381-329b-499d-901b-f035117ccc13",
        "jupyter": {
          "outputs_hidden": false
        },
        "_kg_hide-input": true,
        "trusted": true,
        "id": "nZpdAj2kblME",
        "colab": {
          "base_uri": "https://localhost:8080/"
        },
        "outputId": "c69d81f9-d6af-45e0-bea0-0fc75fe18024"
      },
      "outputs": [
        {
          "output_type": "execute_result",
          "data": {
            "text/plain": [
              "[0.04208594188094139, 0.9872413873672485]"
            ]
          },
          "metadata": {},
          "execution_count": 52
        }
      ],
      "execution_count": null
    },
    {
      "cell_type": "markdown",
      "source": [
        "#### 5.6 Predictions <a id=17></a>"
      ],
      "metadata": {
        "id": "cfRfcghQblME"
      }
    },
    {
      "cell_type": "code",
      "source": [
        "predictions = np.argmax(model.predict(X_test), axis=-1)\n",
        "print(\"Predictions done...\")\n",
        "# predictions = model.predict_classes(X_test)\n",
        "# print(\"Predictions done...\")"
      ],
      "metadata": {
        "_uuid": "f7df04f7-8d68-4adf-9909-fb2dc722447f",
        "_cell_guid": "d2d154b6-4555-4fee-a172-d23850b90d99",
        "jupyter": {
          "outputs_hidden": false
        },
        "_kg_hide-input": true,
        "trusted": true,
        "id": "82ncsDeHblME",
        "colab": {
          "base_uri": "https://localhost:8080/"
        },
        "outputId": "098e154d-ec8c-4723-ef69-03f097925d75"
      },
      "outputs": [
        {
          "output_type": "stream",
          "name": "stdout",
          "text": [
            "\u001b[1m816/816\u001b[0m \u001b[32m━━━━━━━━━━━━━━━━━━━━\u001b[0m\u001b[37m\u001b[0m \u001b[1m2s\u001b[0m 2ms/step\n",
            "Predictions done...\n"
          ]
        }
      ],
      "execution_count": null
    },
    {
      "cell_type": "markdown",
      "source": [
        "##### 5.6.1 Classification report"
      ],
      "metadata": {
        "id": "4j87fMujblME"
      }
    },
    {
      "cell_type": "code",
      "source": [
        "from sklearn.metrics import classification_report, confusion_matrix\n",
        "print(classification_report(y_test,predictions))"
      ],
      "metadata": {
        "_uuid": "3422a44a-c7a6-4142-9bd5-2602ad158b43",
        "_cell_guid": "ce15c91a-6167-4c26-8c20-4ce024b9550e",
        "jupyter": {
          "outputs_hidden": false
        },
        "_kg_hide-input": true,
        "trusted": true,
        "id": "DP6lUyVIblME",
        "colab": {
          "base_uri": "https://localhost:8080/"
        },
        "outputId": "d5f968ff-a0bc-4a3f-cc8f-1b0e131e4c4e"
      },
      "outputs": [
        {
          "output_type": "stream",
          "name": "stdout",
          "text": [
            "              precision    recall  f1-score   support\n",
            "\n",
            "           0       0.96      1.00      0.98       900\n",
            "           1       1.00      0.98      0.99       900\n",
            "           2       1.00      1.00      1.00       900\n",
            "           3       0.99      1.00      0.99       900\n",
            "           4       0.98      0.99      0.99       900\n",
            "           5       1.00      1.00      1.00       900\n",
            "           6       0.99      0.98      0.99       900\n",
            "           7       0.97      1.00      0.99       900\n",
            "           8       0.99      0.99      0.99       900\n",
            "           9       0.99      1.00      0.99       900\n",
            "          10       1.00      0.99      0.99       900\n",
            "          11       1.00      0.97      0.99       900\n",
            "          12       1.00      0.99      0.99       900\n",
            "          13       0.99      0.99      0.99       900\n",
            "          14       0.99      1.00      0.99       900\n",
            "          15       0.99      1.00      1.00       900\n",
            "          16       0.99      1.00      1.00       900\n",
            "          17       0.90      1.00      0.95       900\n",
            "          18       0.99      1.00      1.00       900\n",
            "          19       1.00      0.95      0.97       900\n",
            "          20       1.00      0.87      0.93       900\n",
            "          21       0.99      0.97      0.98       900\n",
            "          22       1.00      1.00      1.00       900\n",
            "          23       0.95      1.00      0.97       900\n",
            "          24       1.00      0.99      1.00       900\n",
            "          25       0.98      1.00      0.99       900\n",
            "          26       1.00      1.00      1.00       900\n",
            "          27       1.00      1.00      1.00       900\n",
            "          28       1.00      0.99      1.00       900\n",
            "\n",
            "    accuracy                           0.99     26100\n",
            "   macro avg       0.99      0.99      0.99     26100\n",
            "weighted avg       0.99      0.99      0.99     26100\n",
            "\n"
          ]
        }
      ],
      "execution_count": null
    },
    {
      "cell_type": "markdown",
      "source": [
        "##### 5.6.2 Confusion matrix heatmap"
      ],
      "metadata": {
        "id": "2upa3DxOblME"
      }
    },
    {
      "cell_type": "code",
      "source": [
        "plt.figure(figsize=(12,12))\n",
        "sns.heatmap(confusion_matrix(y_test,predictions))\n",
        "plt.show()"
      ],
      "metadata": {
        "_uuid": "16da6316-14ee-4ea6-9c8a-e5c7dd4947b8",
        "_cell_guid": "82ddeca2-22ce-4dce-9649-62e172593c4d",
        "jupyter": {
          "outputs_hidden": false
        },
        "_kg_hide-input": true,
        "trusted": true,
        "id": "fq-0XdX2blME",
        "colab": {
          "base_uri": "https://localhost:8080/",
          "height": 990
        },
        "outputId": "61f72560-58e9-4d1b-8091-5b0dcd87e2d1"
      },
      "outputs": [
        {
          "output_type": "display_data",
          "data": {
            "text/plain": [
              "<Figure size 1200x1200 with 2 Axes>"
            ],
            "image/png": "[encoded data removed]"
          },
          "metadata": {}
        }
      ],
      "execution_count": null
    },
    {
      "cell_type": "markdown",
      "source": [
        "#### 5.7 Saving the model <a id=18></a>"
      ],
      "metadata": {
        "_uuid": "3e4bb569-e8a8-46bd-b454-324c9a438472",
        "_cell_guid": "3b9c82a3-3f9e-4942-ba84-4ab45a9d7c28",
        "trusted": true,
        "id": "zPK-pAw2blME"
      }
    },
    {
      "cell_type": "code",
      "source": [
        "pint(\"error\")"
      ],
      "metadata": {
        "trusted": true,
        "id": "Uj8LuEK7blMF"
      },
      "outputs": [],
      "execution_count": null
    },
    {
      "cell_type": "code",
      "source": [
        "from keras.models import load_model\n",
        "model.save('ASL.keras')\n",
        "print(\"Model saved successfully...\")"
      ],
      "metadata": {
        "_uuid": "b4ff36f4-5518-4e83-83ba-aa1233b0f571",
        "_cell_guid": "8185dcab-276b-4ded-b361-68a509f12a6b",
        "jupyter": {
          "outputs_hidden": false
        },
        "_kg_hide-input": true,
        "trusted": true,
        "id": "pdu9NzfiblMF",
        "colab": {
          "base_uri": "https://localhost:8080/"
        },
        "outputId": "29f92b1c-db34-4b8c-8f4c-186579ae3f90"
      },
      "outputs": [
        {
          "output_type": "stream",
          "name": "stdout",
          "text": [
            "Model saved successfully...\n"
          ]
        }
      ],
      "execution_count": null
    },
    {
      "cell_type": "markdown",
      "source": [
        "### Production"
      ],
      "metadata": {
        "id": "EyoIpbkfk9Ca"
      }
    },
    {
      "cell_type": "markdown",
      "source": [
        " Load the saved model"
      ],
      "metadata": {
        "id": "Vr2a-fc5la84"
      }
    },
    {
      "cell_type": "code",
      "source": [
        "from keras.models import load_model\n",
        "model = load_model('ASL.keras')"
      ],
      "metadata": {
        "id": "Z4L8lJwRlOFm"
      },
      "execution_count": null,
      "outputs": []
    },
    {
      "cell_type": "markdown",
      "source": [
        "Preprocess the input image"
      ],
      "metadata": {
        "id": "QIZz1_c1lb4z"
      }
    },
    {
      "cell_type": "code",
      "source": [
        "import cv2\n",
        "import numpy as np\n",
        "from skimage.transform import resize\n",
        "\n",
        "def preprocess_image(image_path, target_size=(64, 64)):\n",
        "    \"\"\"\n",
        "    Preprocesses an image for the ASL model.\n",
        "\n",
        "    Args:\n",
        "        image_path (str): Path to the image file.\n",
        "        target_size (tuple): Target size for resizing the image.\n",
        "\n",
        "    Returns:\n",
        "        numpy.ndarray: Preprocessed image as a NumPy array.\n",
        "    \"\"\"\n",
        "    img = cv2.imread(image_path)\n",
        "    img = resize(img, target_size)\n",
        "    img = np.expand_dims(img, axis=0)\n",
        "    return img"
      ],
      "metadata": {
        "id": "csqRCNt1lfNF"
      },
      "execution_count": null,
      "outputs": []
    },
    {
      "cell_type": "code",
      "source": [
        "# Data\n",
        "a = '/content/asl_alphabet_test/asl_alphabet_test/A_test.jpg'\n",
        "b = '/content/asl_alphabet_test/asl_alphabet_test/B_test.jpg'\n",
        "c = '/content/asl_alphabet_test/asl_alphabet_test/C_test.jpg'\n",
        "d = '/content/asl_alphabet_test/asl_alphabet_test/D_test.jpg'\n",
        "e = '/content/asl_alphabet_test/asl_alphabet_test/E_test.jpg'\n",
        "f = '/content/asl_alphabet_test/asl_alphabet_test/F_test.jpg'\n",
        "g = '/content/asl_alphabet_test/asl_alphabet_test/G_test.jpg'\n",
        "h = '/content/asl_alphabet_test/asl_alphabet_test/H_test.jpg'\n",
        "i = '/content/asl_alphabet_test/asl_alphabet_test/I_test.jpg'\n",
        "j = '/content/asl_alphabet_test/asl_alphabet_test/J_test.jpg'\n",
        "k = '/content/asl_alphabet_test/asl_alphabet_test/K_test.jpg'\n",
        "l = '/content/asl_alphabet_test/asl_alphabet_test/L_test.jpg'\n",
        "m = '/content/asl_alphabet_test/asl_alphabet_test/M_test.jpg'\n",
        "n = '/content/asl_alphabet_test/asl_alphabet_test/N_test.jpg'\n",
        "o = '/content/asl_alphabet_test/asl_alphabet_test/O_test.jpg'\n",
        "p = '/content/asl_alphabet_test/asl_alphabet_test/P_test.jpg'\n",
        "q = '/content/asl_alphabet_test/asl_alphabet_test/Q_test.jpg'\n",
        "r = '/content/asl_alphabet_test/asl_alphabet_test/R_test.jpg'\n",
        "s = '/content/asl_alphabet_test/asl_alphabet_test/S_test.jpg'\n",
        "t = '/content/asl_alphabet_test/asl_alphabet_test/T_test.jpg'\n",
        "u = '/content/asl_alphabet_test/asl_alphabet_test/U_test.jpg'\n",
        "v = '/content/asl_alphabet_test/asl_alphabet_test/V_test.jpg'\n",
        "w = '/content/asl_alphabet_test/asl_alphabet_test/W_test.jpg'\n",
        "x = '/content/asl_alphabet_test/asl_alphabet_test/X_test.jpg'\n",
        "y = '/content/asl_alphabet_test/asl_alphabet_test/Y_test.jpg'\n",
        "z = '/content/asl_alphabet_test/asl_alphabet_test/Z_test.jpg'"
      ],
      "metadata": {
        "id": "E9NCWxjYmH41"
      },
      "execution_count": null,
      "outputs": []
    },
    {
      "cell_type": "code",
      "source": [
        "# Example usage:\n",
        "image_path = b\n",
        "preprocessed_image = preprocess_image(image_path)"
      ],
      "metadata": {
        "id": "7eFlJBxJlj2U"
      },
      "execution_count": null,
      "outputs": []
    },
    {
      "cell_type": "markdown",
      "source": [
        "Make predictions"
      ],
      "metadata": {
        "id": "de34j1VilnrK"
      }
    },
    {
      "cell_type": "code",
      "source": [
        "prediction = model.predict(preprocessed_image)\n",
        "predicted_class = np.argmax(prediction)\n",
        "\n",
        "# Map predicted class index to letter\n",
        "class_labels = {0: 'A', 1: 'B', 2: 'C', 3: 'D', 4: 'E', 5: 'F', 6: 'G', 7: 'H', 8: 'I', 9: 'J', 10: 'K', 11: 'L', 12: 'M', 13: 'N', 14: 'O', 15: 'P', 16: 'Q', 17: 'R', 18: 'S', 19: 'T', 20: 'U', 21: 'V', 22: 'W', 23: 'X', 24: 'Y', 25: 'Z', 26: 'del', 27: 'nothing', 28: 'space'}\n",
        "predicted_letter = class_labels[predicted_class]\n",
        "\n",
        "print(f\"Predicted letter: {predicted_letter}\")"
      ],
      "metadata": {
        "colab": {
          "base_uri": "https://localhost:8080/"
        },
        "id": "T3jI3AmwlpCs",
        "outputId": "f97398cb-bcbc-4eef-c61f-cfa895993b80"
      },
      "execution_count": null,
      "outputs": [
        {
          "output_type": "stream",
          "name": "stdout",
          "text": [
            "\u001b[1m1/1\u001b[0m \u001b[32m━━━━━━━━━━━━━━━━━━━━\u001b[0m\u001b[37m\u001b[0m \u001b[1m0s\u001b[0m 18ms/step\n",
            "Predicted letter: B\n"
          ]
        }
      ]
    }
  ]
}